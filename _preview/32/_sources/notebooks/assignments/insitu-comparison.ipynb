{
 "cells": [
  {
   "cell_type": "markdown",
   "id": "e52504ca",
   "metadata": {},
   "source": [
    "# Assignment 2 : Radar / In-Situ Observation Comparison"
   ]
  },
  {
   "cell_type": "markdown",
   "id": "e6306b5a-6848-456c-8b94-aa24e7eb531a",
   "metadata": {},
   "source": [
    "Utilizing the previous notebooks (e.g. convective vs stratiform; extracting radar columns), compare radar estimated rainfall rates to in-situ ground observations for select cases"
   ]
  },
  {
   "cell_type": "markdown",
   "id": "0f02d12e-cb88-4343-aa50-53b9f32429fd",
   "metadata": {},
   "source": [
    "<div class=\"admonition alert alert-success\">\n",
    "    <p class=\"admonition-title\" style=\"font-weight:bold\">Task A </p>\n",
    "    For the 4 June 2024 convective case, read and compare in-situ ground observations (Vaisala FD-70, Tipping Bucket Rain Gauges, Ambient Weather Stations) for the event. <br> Distance between these observations should be recorded and noted within the analysis\n",
    "</div>"
   ]
  },
  {
   "cell_type": "markdown",
   "id": "9b4b69a0-a13b-4a38-888f-840ac766c753",
   "metadata": {},
   "source": [
    "<div class=\"admonition alert alert-warning\">\n",
    "    <p class=\"admonition-title\" style=\"font-weight:bold\">Task B</p>\n",
    "    From the in-situ data, determine if the storm classification of the rain size distribution.\n",
    "</div>"
   ]
  },
  {
   "cell_type": "markdown",
   "id": "f8842963-eaa6-440f-858f-fa000efe4a3d",
   "metadata": {},
   "source": [
    "<div class=\"admonition alert alert-danger\">\n",
    "    <p class=\"admonition-title\" style=\"font-weight:bold\">Task C</p>\n",
    "    Following the O'Brien et al (2022) AMS Annual presentation, sync the temporal frequency of the ground observations to the radar extracted column and compare precipitation estimates."
   ]
  },
  {
   "cell_type": "markdown",
   "id": "de503f50-cbd9-43ad-983d-a4dcc9cfaaf8",
   "metadata": {},
   "source": [
    "**Associated Links**\n",
    "- [O'Brien et al (2022) - ARM SAIL - AMS Annual Meeting](https://github.com/ARM-Development/sail-xprecip-radar/blob/main/notebooks/presentations/AMS_AnnualConference_Denver2023.ipynb)\n",
    "- [Parsing Vaisala FD-70 Data](https://github.com/mgrover1/read-fd70)"
   ]
  },
  {
   "cell_type": "code",
   "execution_count": null,
   "id": "bff4a7a2-7e4b-4b36-ac78-095a704ff809",
   "metadata": {},
   "outputs": [],
   "source": []
  }
 ],
 "metadata": {
  "kernelspec": {
   "display_name": "Python 3 (ipykernel)",
   "language": "python",
   "name": "python3"
  },
  "language_info": {
   "codemirror_mode": {
    "name": "ipython",
    "version": 3
   },
   "file_extension": ".py",
   "mimetype": "text/x-python",
   "name": "python",
   "nbconvert_exporter": "python",
   "pygments_lexer": "ipython3",
   "version": "3.12.3"
  }
 },
 "nbformat": 4,
 "nbformat_minor": 5
}
