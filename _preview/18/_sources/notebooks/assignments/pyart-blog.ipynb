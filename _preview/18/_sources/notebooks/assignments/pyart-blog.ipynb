{
 "cells": [
  {
   "cell_type": "markdown",
   "id": "e52504ca",
   "metadata": {},
   "source": [
    "# Assignment 1 : Py-ART Blog Post"
   ]
  },
  {
   "cell_type": "markdown",
   "id": "e6306b5a-6848-456c-8b94-aa24e7eb531a",
   "metadata": {},
   "source": [
    "To gain further experience with Github and active development within open-science packages, create a Py-ART Blog post highlighting animated graphics"
   ]
  },
  {
   "cell_type": "markdown",
   "id": "0f02d12e-cb88-4343-aa50-53b9f32429fd",
   "metadata": {},
   "source": [
    "<div class=\"admonition alert alert-success\">\n",
    "    <p class=\"admonition-title\" style=\"font-weight:bold\">Task A </p>\n",
    "    Using the 4 June 2024 convective case, create an animated PPI display pointing out the location of ATMOS and near by ground observations\n",
    "</div>"
   ]
  },
  {
   "cell_type": "markdown",
   "id": "9b4b69a0-a13b-4a38-888f-840ac766c753",
   "metadata": {},
   "source": [
    "<div class=\"admonition alert alert-warning\">\n",
    "    <p class=\"admonition-title\" style=\"font-weight:bold\">Task B</p>\n",
    "    Following the O'Brien et al (2022) AMS Annual presentation, expand the animated PPI gif to also display a Time Series of extracted radar column above ATMOS\n",
    "</div>"
   ]
  },
  {
   "cell_type": "markdown",
   "id": "f8842963-eaa6-440f-858f-fa000efe4a3d",
   "metadata": {},
   "source": [
    "<div class=\"admonition alert alert-danger\">\n",
    "    <p class=\"admonition-title\" style=\"font-weight:bold\">Task C</p>\n",
    "    Using the Py-ART Blog post template, convert above tasks into a blog post describing the event and how to create animations"
   ]
  },
  {
   "cell_type": "markdown",
   "id": "de503f50-cbd9-43ad-983d-a4dcc9cfaaf8",
   "metadata": {},
   "source": [
    "**Associated Links**\n",
    "- [How to Contribute to Py-ART](https://arm-doe.github.io/pyart/blog_posts/2022/first_pullrequest.html)\n",
    "- [O'Brien et al (2022) - ARM SAIL - AMS Annual Meeting](https://github.com/ARM-Development/sail-xprecip-radar/blob/main/notebooks/presentations/AMS_AnnualConference_Denver2023.ipynb)\n",
    "- [Py-ART Blog Template](https://github.com/ARM-DOE/pyart/blob/main/doc/source/blog_posts/blog-post-template.ipynb)"
   ]
  },
  {
   "cell_type": "code",
   "execution_count": null,
   "id": "bff4a7a2-7e4b-4b36-ac78-095a704ff809",
   "metadata": {},
   "outputs": [],
   "source": []
  }
 ],
 "metadata": {
  "kernelspec": {
   "display_name": "Python 3 (ipykernel)",
   "language": "python",
   "name": "python3"
  },
  "language_info": {
   "codemirror_mode": {
    "name": "ipython",
    "version": 3
   },
   "file_extension": ".py",
   "mimetype": "text/x-python",
   "name": "python",
   "nbconvert_exporter": "python",
   "pygments_lexer": "ipython3",
   "version": "3.12.3"
  }
 },
 "nbformat": 4,
 "nbformat_minor": 5
}
