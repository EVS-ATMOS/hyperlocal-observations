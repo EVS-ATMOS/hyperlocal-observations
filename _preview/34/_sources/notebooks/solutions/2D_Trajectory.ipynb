{
 "cells": [
  {
   "cell_type": "code",
   "execution_count": null,
   "id": "afcbdfd3-a399-4a6e-8c51-6fae80c6dbeb",
   "metadata": {},
   "outputs": [],
   "source": []
  },
  {
   "cell_type": "code",
   "execution_count": 3,
   "id": "5f879c2f-6af8-45ad-8a69-8c92b453d20f",
   "metadata": {
    "tags": []
   },
   "outputs": [
    {
     "name": "stderr",
     "output_type": "stream",
     "text": [
      "C:\\Users\\thewe\\anaconda3\\envs\\crocusenv\\Lib\\site-packages\\pyproj\\__init__.py:89: UserWarning: pyproj unable to set database path.\n",
      "  _pyproj_global_context_initialize()\n",
      "Cannot find header.dxf (GDAL_DATA is not defined)\n"
     ]
    }
   ],
   "source": [
    "import pandas as pd\n",
    "import matplotlib.pyplot as plt\n",
    "import cartopy.crs as ccrs\n",
    "import cartopy.io.img_tiles as cimgt\n",
    "import numpy as np\n",
    "from scipy.interpolate import interp1d"
   ]
  },
  {
   "cell_type": "code",
   "execution_count": null,
   "id": "50247fac-5ded-48e2-bb49-6ab2aeb30c21",
   "metadata": {},
   "outputs": [],
   "source": [
    "file_path = '2024-07-22_1427.raw_flight_history.csv'  # Replace with your actual file path\n",
    "data = pd.read_csv(file_path)\n",
    "\n",
    "# Strip any leading/trailing whitespace from column names\n",
    "data.columns = data.columns.str.strip()\n",
    "\n",
    "# Convert Latitude, Longitude, and Wind Speed to numeric, forcing errors to NaN\n",
    "data['Latitude'] = pd.to_numeric(data['Latitude'], errors='coerce')\n",
    "data['Longitude'] = pd.to_numeric(data['Longitude'], errors='coerce')\n",
    "data['Speed (m/s)'] = pd.to_numeric(data['Speed (m/s)'], errors='coerce')\n",
    "\n",
    "# Interpolate wind speed for rows with missing lat/lon\n",
    "missing_lat_lon = data[(data['Latitude'].isna()) | (data['Longitude'].isna())]\n",
    "non_missing_lat_lon = data.dropna(subset=['Latitude', 'Longitude'])"
   ]
  },
  {
   "cell_type": "code",
   "execution_count": null,
   "id": "1dbd0c1e-aeeb-451c-b847-76cf335f7a7e",
   "metadata": {},
   "outputs": [],
   "source": [
    "if not missing_lat_lon.empty and not non_missing_lat_lon.empty:\n",
    "    # Interpolation function for wind speed\n",
    "    speed_interp_func = interp1d(non_missing_lat_lon.index, non_missing_lat_lon['Speed (m/s)'], kind='linear', fill_value='extrapolate')\n",
    "    \n",
    "    # Apply the interpolation function to the indices of missing lat/lon rows\n",
    "    data.loc[missing_lat_lon.index, 'Speed (m/s)'] = speed_interp_func(missing_lat_lon.index)\n",
    "\n",
    "# Clean the lat and lon data by removing rows with NaN values\n",
    "cleaned_data = data.dropna(subset=['Latitude', 'Longitude', 'Speed (m/s)'])\n",
    "\n",
    "# Verify the cleaned data\n",
    "print(cleaned_data[['Latitude', 'Longitude', 'Speed (m/s)']].head())\n",
    "\n",
    "# Define the extent of the map (lon_min, lon_max, lat_min, lat_max)\n",
    "extent = [-87.65, -87.60, 41.83, 41.875]\n",
    "\n",
    "# Create a Cartopy map with Google tiles\n",
    "tiler = cimgt.GoogleTiles(style='satellite')\n",
    "fig = plt.figure(figsize=(10, 10), dpi=300)\n",
    "ax = plt.axes(projection=tiler.crs)\n",
    "ax.set_extent(extent)\n",
    "\n",
    "# Add the Google satellite tiles to the map\n",
    "ax.add_image(tiler, 15)\n",
    "\n",
    "# Create a scatter plot with color coding for wind speed\n",
    "sc = ax.scatter(cleaned_data['Longitude'], cleaned_data['Latitude'], c=cleaned_data['Speed (m/s)'], cmap='jet', s=10, transform=ccrs.PlateCarree())\n",
    "\n",
    "# Add color bar\n",
    "cbar = plt.colorbar(sc, ax=ax, orientation='vertical', shrink=0.7, pad=0.02)\n",
    "cbar.set_label('Wind Speed (m/s)')\n",
    "\n",
    "# Add start and end text\n",
    "start_point = cleaned_data.iloc[0]\n",
    "end_point = cleaned_data.iloc[-1]\n",
    "\n",
    "ax.text(start_point['Longitude'], start_point['Latitude'], 'Start', transform=ccrs.PlateCarree(), fontsize=10, ha='right')\n",
    "ax.text(end_point['Longitude'], end_point['Latitude'], 'End', transform=ccrs.PlateCarree(), fontsize=10, ha='left')\n",
    "\n",
    "# Add title and labels\n",
    "plt.title('Trajectory of the Sounding with Wind Speed, 1427z, July 22nd')\n",
    "plt.xlabel('Longitude')\n",
    "plt.ylabel('Latitude')\n",
    "plt.savefig('sounding125422.png', bbox_inches='tight', dpi=300)\n",
    "# Display the plot\n",
    "plt.show()\n"
   ]
  }
 ],
 "metadata": {
  "kernelspec": {
   "display_name": "CROCUS",
   "language": "python",
   "name": "crocusenv"
  },
  "language_info": {
   "codemirror_mode": {
    "name": "ipython",
    "version": 3
   },
   "file_extension": ".py",
   "mimetype": "text/x-python",
   "name": "python",
   "nbconvert_exporter": "python",
   "pygments_lexer": "ipython3",
   "version": "3.12.3"
  }
 },
 "nbformat": 4,
 "nbformat_minor": 5
}
