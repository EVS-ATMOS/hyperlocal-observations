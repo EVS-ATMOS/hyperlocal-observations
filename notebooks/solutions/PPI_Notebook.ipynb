{
 "cells": [
  {
   "cell_type": "markdown",
   "id": "273713c8-1d0a-4eb9-bed5-5a5dd3affe29",
   "metadata": {},
   "source": [
    "<p style=\"text-align: left; font-size: 32px; font-weight: bold;\">\n",
    "    Creating animated gifs with NEXRAD Level 2 radar data using Py-ART\n",
    "</p>\n"
   ]
  },
  {
   "cell_type": "markdown",
   "id": "cf3ddff7-1b8a-4bec-bfb9-e6ed7638ddf5",
   "metadata": {},
   "source": [
    "# Overview\n",
    "### Within this notebook, we will cover:\n",
    "#### 1: Accessing NEXRAD data from AWS\n",
    "#### 2: How to read the data into Py-ART and create plots\n",
    "#### 3: How to create animated gifs with acquired radar data from Py-ART\n",
    "#### 4: Alternative applications of GIF making for more obscure or algorithmic products such as feature detection, or vertical column pulling"
   ]
  },
  {
   "cell_type": "markdown",
   "id": "59ace9d6-27f2-4aaa-9817-a0c5172f7ca6",
   "metadata": {},
   "source": [
    "# Prerequisites \n",
    "\n",
    "\n",
    "| Concepts | Importance | Notes |\n",
    "| -------- | ---------- | ----- |\n",
    "| [Quickstart: Zero to Python](https://foundations.projectpythia.org/foundations/quickstart.html) | Required | For loops, lists |\n",
    "| [Matplotlib Basics](https://link-to-matplotlib-basics) | Required | Basic plotting |\n",
    "| [Py-ART Basics](https://link-to-pyart-basics) | Required | IO/Visualization |\n",
    "| [The Basics of Weather Radar](https://projectpythia.org/radar-cookbook/notebooks/radar-basics/radar-basics.html) | Required | Competency with Radar and its products |\n",
    "\n",
    "* **Time to learn:** 30 Minutes\n"
   ]
  },
  {
   "cell_type": "markdown",
   "id": "7d635057-bed0-4af8-8fcb-ad6e8d8cc4b7",
   "metadata": {},
   "source": [
    "# Imports for animated gif making in PyArt "
   ]
  },
  {
   "cell_type": "code",
   "execution_count": null,
   "id": "783c2748-7188-490d-966c-2b6338991491",
   "metadata": {},
   "outputs": [],
   "source": [
    "import pyart\n",
    "import fsspec\n",
    "import matplotlib.pyplot as plt\n",
    "import os\n",
    "from io import BytesIO\n",
    "import warnings\n",
    "import cartopy.crs as ccrs\n",
    "from metpy.plots import USCOUNTIES\n",
    "from PIL import Image\n",
    "from mpl_toolkits.axes_grid1 import make_axes_locatable\n",
    "import numpy as np\n",
    "from datetime import datetime, timedelta\n",
    "warnings.filterwarnings(\"ignore\")"
   ]
  },
  {
   "cell_type": "markdown",
   "id": "24db5ea4-c1c2-4417-a546-d833cec5b9f8",
   "metadata": {},
   "source": [
    "### Set up the AWS S3 filysystem\n",
    "This allows you to pull nexrad-level-2 data files from the AWS repository."
   ]
  },
  {
   "cell_type": "code",
   "execution_count": null,
   "id": "4332d08b-92fa-4508-8f2e-076587727cc7",
   "metadata": {},
   "outputs": [],
   "source": [
    "fs = fsspec.filesystem(\"s3\", anon=True)"
   ]
  },
  {
   "cell_type": "markdown",
   "id": "da16c075-2379-46a9-a66b-0c68c6f31841",
   "metadata": {},
   "source": [
    "### Selecting your date, station, and time period"
   ]
  },
  {
   "cell_type": "markdown",
   "id": "0a658bef-a25c-4f7d-a9fb-7d2bb78133bd",
   "metadata": {},
   "source": [
    "Once the file system is set up, you can use the following code to specify what time, date, and station you'd like to retrieve data for\n",
    "\n",
    "For this example, we will use data from NWS Chicago (KLOT) from 04 UTC, June 5th, 2024\n"
   ]
  },
  {
   "cell_type": "code",
   "execution_count": null,
   "id": "c7423701-b9be-4996-9e17-8fccbcc4743b",
   "metadata": {},
   "outputs": [],
   "source": [
    "start_date = datetime(2024, 6, 5, 4, 0)  # YYYY/MM/DD HH\n",
    "end_date = datetime(2024, 6, 6, 10, 0)   # YYYY/MM/DD HH\n",
    "station = 'KLOT'\n",
    "\n",
    "# Generate the list of files for the specified date and hour range\n",
    "files = []\n",
    "current_date = start_date\n",
    "while current_date <= end_date:\n",
    "    date_str = current_date.strftime(\"%Y/%m/%d\")\n",
    "    date_str_compact = current_date.strftime(\"%Y%m%d\")\n",
    "    for hour in range(start_hour, end_hour + 1):\n",
    "        hour_str = f\"{hour:02d}\"\n",
    "        files += sorted(fs.glob(f\"s3://noaa-nexrad-level2/{date_str}/{station}/{station}{date_str_compact}_{hour_str}*\"))\n",
    "    current_date += timedelta(days=1)\n",
    "\n",
    "# Print the selected files\n",
    "print(\"Selected files:\")\n",
    "for file in files:\n",
    "    print(file)"
   ]
  },
  {
   "cell_type": "code",
   "execution_count": null,
   "id": "4adf4304-60d4-41e6-af16-3ba900341278",
   "metadata": {},
   "outputs": [],
   "source": [
    "frames = []"
   ]
  },
  {
   "cell_type": "markdown",
   "id": "52f5557d-a609-4ca6-ba9c-57a9f3fbf088",
   "metadata": {},
   "source": [
    "### OPTIONAL* setting up individual locations to be plotted on your map\n",
    "\n",
    "In this example, two plots are pointed due to their relevance to the example weather event: The ATMOS facility at Argonne National Laboratory, Lemont, IL, and Sawmill Creek in Darien, IL. The latitude and longitude for each site should be placed at the same index (IE. Index 0 in both latitude and longitude should contain the latitude and longitude data for that one site. This also applies to the labels, markers, and colors. Any object in the index 0 slot will apply to that same point.)\n",
    "\n"
   ]
  },
  {
   "cell_type": "code",
   "execution_count": null,
   "id": "98441ba6-c044-4f68-b6db-9ee4b4f6eb45",
   "metadata": {},
   "outputs": [],
   "source": [
    "latitude = [41.700937896518866, 41.73884644555692] \n",
    "longitude = [-87.99578103231573, -87.98744136114946]\n",
    "labels = ['Tower', 'SCM']\n",
    "markers = ['v', 'o']\n",
    "colors = ['magenta', 'cyan']"
   ]
  },
  {
   "cell_type": "markdown",
   "id": "1c8fbb97-8d82-4752-85f2-378039b75fb9",
   "metadata": {},
   "source": [
    "### Checking your plottable radar products\n",
    "This function reads one of the radar files in your file list and prints out the available products for plotting. One file should represent all products available in each radar file in the list. Although if you are pulling data from files pre 2011, dual-pol products won't be available. "
   ]
  },
  {
   "cell_type": "code",
   "execution_count": null,
   "id": "33bfb51d-821f-412c-92fd-fec25e02c3c1",
   "metadata": {},
   "outputs": [],
   "source": [
    "def check_radar_fields(file_path):\n",
    "    try:\n",
    "        with fs.open(file_path, 'rb') as f:\n",
    "            radar_data = f.read()\n",
    "        radar_file = BytesIO(radar_data)\n",
    "        radar = pyart.io.read_nexrad_archive(radar_file)\n",
    "        print(f\"Fields in radar data from {file_path}:\")\n",
    "        print(list(radar.fields.keys()))\n",
    "    except Exception as e:\n",
    "        print(f\"Failed to read radar data from {file_path}: {e}\")\n",
    "\n",
    "# Check the fields for the first file\n",
    "if files:\n",
    "    check_radar_fields(files[0])"
   ]
  },
  {
   "cell_type": "markdown",
   "id": "7959c02c-1d6e-4d6f-8608-3a410c575d3b",
   "metadata": {},
   "source": [
    "# Reading the data into PyART\n",
    "\n",
    "To streamline the process of pulling and processing the radar files, we will create a function called read_radar_data. \n",
    "\n",
    "Within this function, some progress tracking code is implemented. Each time a file is successfully read, a message will be printed out letting you know what file in the order it is. This is useful to tell if your code is actually working.\n",
    "An exception is added to this code so that the files marked MDM (shown on the list of filed compiled when pulling data) do not halt the process, and are instead skipped as they are not necessary.  \n",
    "\n",
    "\n"
   ]
  },
  {
   "cell_type": "code",
   "execution_count": null,
   "id": "f2c38e69-7643-48a9-a236-322f51b843ba",
   "metadata": {},
   "outputs": [],
   "source": [
    "def read_radar_data(file_path):\n",
    "    try:\n",
    "        with fs.open(file_path, 'rb') as f:\n",
    "            radar_data = f.read()\n",
    "        radar_file = BytesIO(radar_data)\n",
    "        radar = pyart.io.read_nexrad_archive(radar_file)\n",
    "        print(f\"Successfully read radar data from {file_path}\")\n",
    "        return radar\n",
    "    except Exception as e:\n",
    "        print(f\"Failed to read radar data from {file_path}: {e}\")\n",
    "        return None"
   ]
  },
  {
   "cell_type": "markdown",
   "id": "c72bad93-1e67-43c2-9366-67da7506d23b",
   "metadata": {},
   "source": [
    "### Looping through the radar data\n",
    "\n",
    "This code allows us to loop through each radar file read. A progress message is printed when a new file has started being processed. \n",
    "The if statement tells the code to skip files that are unable to be read."
   ]
  },
  {
   "cell_type": "code",
   "execution_count": null,
   "id": "dcd07326-1da4-4763-b2c3-bd00246b21b1",
   "metadata": {},
   "outputs": [],
   "source": [
    "for i, file in enumerate(files):\n",
    "    print(f\"Processing file {i+1}/{len(files)}: {file}\")\n",
    "    radar = read_radar_data(file)\n",
    "    if radar is None:\n",
    "        print(f\"Skipping file {file} due to read error.\")\n",
    "        continue"
   ]
  },
  {
   "cell_type": "markdown",
   "id": "dc2eb928-3dd3-4318-a9c1-ea533b013026",
   "metadata": {
    "tags": []
   },
   "source": [
    "### Plotting code with added features and plotted points\n",
    "\n",
    "The radar product being plotted can be changed based on the needs of the individual, but for this example, we will use reflectivity to make a singular gif. \n",
    "\n",
    "### Customizing the range of plotted data\n",
    "Vmin and vmax represent the range of dBz values you'd like to plot on the radar. Sometimes, one may want to raise the lower limit to reduce clutter or nonmeteorological scatter that often appears as low reflectivity blobs near the radar. Basically the maximum and minimum values for your colorbar as well.\n",
    "\n",
    "The sweep is the elevation being scanned. For example, sweep 0 is the lowest level scanned by the radar. \n",
    "\n",
    "### Counties\n",
    "\n",
    "Counties can be added with the ax.add_feature line. Further additions can be made using cartopy.cfeature if needed. \n",
    "\n",
    "### Location plotting \n",
    "The for loop in this cell is used to plot the location data provided in the aforementioned variables. \n",
    "\n",
    "### Zooming \n",
    "The x and ylim functions will allow you to control the zoom on your plot. The grid on the plot is representative of latitude (y) and longitude (x) lines. For this example, we are zoomed in over the points.\n",
    "\n",
    "### Colorbar\n",
    "The built in colorbar is disabled and one was created manually to make it fit the image better. Purely an aesthetic decision.\n",
    "\n",
    "### NOTE \n",
    "This code is meant to go under the for loop. Don't run it on its own as it won't work as intended. Full code block will be below"
   ]
  },
  {
   "cell_type": "code",
   "execution_count": null,
   "id": "63cf50e5-bd19-4f36-acee-c001d223ca40",
   "metadata": {},
   "outputs": [],
   "source": [
    "fig = plt.figure(figsize=[12, 8])\n",
    "ax = plt.subplot(111, projection=ccrs.PlateCarree())\n",
    "display = pyart.graph.RadarMapDisplay(radar)\n",
    "try:\n",
    "    display.plot_ppi_map('reflectivity',\n",
    "                         sweep=0,\n",
    "                         vmin=10,\n",
    "                         vmax=65,\n",
    "                         ax=ax,\n",
    "                         title=f'Z for {os.path.basename(file)}',\n",
    "                         cmap='pyart_ChaseSpectral',\n",
    "                         colorbar_flag=False)  # Disable the built-in colorbar\n",
    "    mappable = display.plots[0]\n",
    "except Exception as e:\n",
    "    print(f\"Error plotting radar data for file {file}: {e}\")\n",
    "    plt.close(fig)\n",
    "    continue\n",
    "\n",
    "# Set the extent to zoom in much closer and centered on the points\n",
    "plt.xlim(-88.1, -87.8)\n",
    "plt.ylim(41.6, 41.8)\n",
    "\n",
    "# Add counties\n",
    "ax.add_feature(USCOUNTIES, linewidth=0.5)\n",
    "\n",
    "for lat, lon, label, marker, color in zip(latitude, longitude, labels, markers, colors):\n",
    "    ax.plot(lon, lat, marker, label=label, color=color, transform=ccrs.PlateCarree(), markersize=10)\n",
    "\n",
    "# Create a colorbar manually\n",
    "plt.tight_layout()\n",
    "cbar = plt.colorbar(mappable, ax=ax, orientation='vertical', fraction=0.046, pad=0.04)\n",
    "cbar.set_label('equivalent reflectivity factor (dBZ)')\n",
    "\n",
    "# Save the plot to a file\n",
    "filename = f'radar_frame_{i}.png'\n",
    "plt.legend(loc='upper right', fontsize='large', title='Locations')\n",
    "plt.savefig(filename, bbox_inches='tight')\n",
    "plt.close(fig)\n",
    "\n",
    "# Add the file to the frames list\n",
    "frames.append(filename)\n",
    "print(f\"Saved frame {i+1}/{len(files)}: {filename}\")\n"
   ]
  },
  {
   "cell_type": "markdown",
   "id": "3eb8f6a9-f06c-4ad7-a3c3-f39f18e83dde",
   "metadata": {},
   "source": [
    "### Full code block constructed properly within the for loop."
   ]
  },
  {
   "cell_type": "code",
   "execution_count": null,
   "id": "180af19b-9c76-4821-a65f-82541d4274f5",
   "metadata": {},
   "outputs": [],
   "source": [
    "for i, file in enumerate(files):\n",
    "    radar = read_radar_data(file)\n",
    "    if radar is None:\n",
    "        print(f\"Skipping file {file} due to read error.\")\n",
    "        continue\n",
    "\n",
    "    # Create a plot for the first sweep's reflectivity\n",
    "    fig = plt.figure(figsize=[12, 8])\n",
    "    ax = plt.subplot(111, projection=ccrs.PlateCarree())\n",
    "    display = pyart.graph.RadarMapDisplay(radar)\n",
    "    try:\n",
    "        display.plot_ppi_map('reflectivity',\n",
    "                             sweep=0,\n",
    "                             vmin=10,\n",
    "                             vmax=65,\n",
    "                             ax=ax,\n",
    "                             title=f'Z for {os.path.basename(file)}',\n",
    "                             cmap='pyart_ChaseSpectral',\n",
    "                             colorbar_flag=False)  # Disable the built-in colorbar\n",
    "        mappable = display.plots[0]\n",
    "    except Exception as e:\n",
    "        print(f\"Error plotting radar data for file {file}: {e}\")\n",
    "        plt.close(fig)\n",
    "        continue\n",
    "\n",
    "    # Set the extent to zoom in much closer and centered on the points\n",
    "    plt.xlim(-88.2, -87.7)\n",
    "    plt.ylim(41.5, 41.9)\n",
    "\n",
    "    # Add counties\n",
    "    ax.add_feature(USCOUNTIES, linewidth=0.5)\n",
    "\n",
    "    for lat, lon, label, marker, color in zip(latitude, longitude, labels, markers, colors):\n",
    "        ax.plot(lon, lat, marker, label=label, color=color, transform=ccrs.PlateCarree(), markersize=10)\n",
    "\n",
    "    # Create a colorbar manually\n",
    "    plt.tight_layout()\n",
    "    cbar = plt.colorbar(mappable, ax=ax, orientation='vertical', fraction=0.046, pad=0.04)\n",
    "    cbar.set_label('equivalent reflectivity factor (dBZ)')\n",
    "\n",
    "    # Save the plot to a file\n",
    "    filename = f'radar_frame_{i}.png'\n",
    "    plt.legend(loc='upper right', fontsize='large', title='Locations')\n",
    "    plt.savefig(filename, bbox_inches='tight')\n",
    "    plt.close(fig)\n",
    "\n",
    "    # Add the file to the frames list\n",
    "    frames.append(filename)\n",
    "    print(f\"Saved frame {i+1}/{len(files)}: {filename}\")"
   ]
  },
  {
   "cell_type": "markdown",
   "id": "db72007f-fe7f-4ee3-a9cc-92450b1b6920",
   "metadata": {},
   "source": [
    "# GIF creation\n",
    "\n",
    "We can now use the data to create a gif out of the frames we've appended to our list. \n",
    "\n",
    "This code also includes code to save the gif to your local directory.\n",
    "\n",
    "Something to note, if you do not want to save the gif, you can get rid of this code.\n",
    "\n",
    "As the frames are processed, they will temporarily save to your directory until the gif is made. They will save as PNG files, which are able to be opened and can be used to make sure everything is plotting on your figure correctly.\n",
    "\n"
   ]
  },
  {
   "cell_type": "code",
   "execution_count": null,
   "id": "8f2575c2-9c0c-4d23-afca-1a57402731b0",
   "metadata": {},
   "outputs": [],
   "source": [
    "# Create an animated GIF using Pillow\n",
    "if frames:\n",
    "    print(\"Creating animated GIF...\")\n",
    "    images = [Image.open(frame) for frame in frames]\n",
    "    images[0].save('radar_animation.gif', save_all=True, append_images=images[1:], duration=300, loop=0)  # duration in milliseconds\n",
    "\n",
    "    # Clean up the saved frames\n",
    "    for filename in frames:\n",
    "        os.remove(filename)\n",
    "\n",
    "    print(\"Animated GIF created as 'radar_animation.gif'\")\n",
    "else:\n",
    "    print(\"No frames were generated.\")"
   ]
  },
  {
   "cell_type": "markdown",
   "id": "c58a5986-ce53-48fc-a1de-106167457c0f",
   "metadata": {},
   "source": [
    "# Code in whole"
   ]
  },
  {
   "cell_type": "code",
   "execution_count": null,
   "id": "25b6eab3-8b36-4dfc-a30c-cfbe9c60bd6f",
   "metadata": {},
   "outputs": [],
   "source": [
    "import pyart\n",
    "import fsspec\n",
    "import matplotlib.pyplot as plt\n",
    "import os\n",
    "from io import BytesIO\n",
    "import warnings\n",
    "import cartopy.crs as ccrs\n",
    "from metpy.plots import USCOUNTIES\n",
    "from PIL import Image\n",
    "from mpl_toolkits.axes_grid1 import make_axes_locatable\n",
    "import numpy as np\n",
    "from datetime import datetime, timedelta\n",
    "\n",
    "warnings.filterwarnings(\"ignore\")\n",
    "\n",
    "fs = fsspec.filesystem(\"s3\", anon=True)\n",
    "\n",
    "# Define the start and end dates and hours\n",
    "start_date = datetime(2024, 6, 5, 4, 0)  # YYYY/MM/DD HH\n",
    "end_date = datetime(2024, 6, 6, 10, 0)   # YYYY/MM/DD HH\n",
    "station = 'KLOT'\n",
    "latitude = [41.700937896518866, 41.704120]\n",
    "longitude = [-87.99578103231573, -87.968328]\n",
    "labels = ['Tower', 'SCM']\n",
    "markers = ['v', 'o']\n",
    "colors = ['pink', 'cyan']\n",
    "\n",
    "# Generate the list of files for the specified date and hour range\n",
    "files = []\n",
    "current_date = start_date\n",
    "while current_date <= end_date:\n",
    "    date_str = current_date.strftime(\"%Y/%m/%d\")\n",
    "    date_str_compact = current_date.strftime(\"%Y%m%d\")\n",
    "    for hour in range(start_date.hour, end_date.hour + 1):\n",
    "        hour_str = f\"{hour:02d}\"\n",
    "        files += sorted(fs.glob(f\"s3://noaa-nexrad-level2/{date_str}/{station}/{station}{date_str_compact}_{hour_str}*\"))\n",
    "    current_date += timedelta(days=1)\n",
    "\n",
    "# Print the selected files\n",
    "print(\"Selected files:\")\n",
    "for file in files:\n",
    "    print(file)\n",
    "\n",
    "# Check and print the fields in the first radar file\n",
    "def check_radar_fields(file_path):\n",
    "    try:\n",
    "        with fs.open(file_path, 'rb') as f:\n",
    "            radar_data = f.read()\n",
    "        radar_file = BytesIO(radar_data)\n",
    "        radar = pyart.io.read_nexrad_archive(radar_file)\n",
    "        print(f\"Fields in radar data from {file_path}:\")\n",
    "        print(list(radar.fields.keys()))\n",
    "    except Exception as e:\n",
    "        print(f\"Failed to read radar data from {file_path}: {e}\")\n",
    "\n",
    "# Check the fields for the first file\n",
    "if files:\n",
    "    check_radar_fields(files[0])\n",
    "\n",
    "# Function to read radar data\n",
    "def read_radar_data(file_path):\n",
    "    try:\n",
    "        with fs.open(file_path, 'rb') as f:\n",
    "            radar_data = f.read()\n",
    "        radar_file = BytesIO(radar_data)\n",
    "        radar = pyart.io.read_nexrad_archive(radar_file)\n",
    "        print(f\"Successfully read radar data from {file_path}\")\n",
    "        return radar\n",
    "    except Exception as e:\n",
    "        print(f\"Failed to read radar data from {file_path}: {e}\")\n",
    "        return None\n",
    "\n",
    "# Create frames for the animated GIF\n",
    "frames = []\n",
    "\n",
    "# Loop through each radar file\n",
    "for i, file in enumerate(files):\n",
    "    radar = read_radar_data(file)\n",
    "    if radar is None:\n",
    "        print(f\"Skipping file {file} due to read error.\")\n",
    "        continue\n",
    "\n",
    "    # Create a plot for the first sweep's reflectivity\n",
    "    fig = plt.figure(figsize=[12, 8])\n",
    "    ax = plt.subplot(111, projection=ccrs.PlateCarree())\n",
    "    display = pyart.graph.RadarMapDisplay(radar)\n",
    "    try:\n",
    "        display.plot_ppi_map('reflectivity',\n",
    "                             sweep=0,\n",
    "                             vmin=10,\n",
    "                             vmax=65,\n",
    "                             ax=ax,\n",
    "                             title=f'Z for {os.path.basename(file)}',\n",
    "                             cmap='pyart_ChaseSpectral',\n",
    "                             colorbar_flag=False)  # Disable the built-in colorbar\n",
    "        mappable = display.plots[0]\n",
    "    except Exception as e:\n",
    "        print(f\"Error plotting radar data for file {file}: {e}\")\n",
    "        plt.close(fig)\n",
    "        continue\n",
    "\n",
    "    # Set the extent to zoom in much closer and centered on the points\n",
    "    plt.xlim(-88.2, -87.7)\n",
    "    plt.ylim(41.5, 41.9)\n",
    "\n",
    "    # Add counties\n",
    "    ax.add_feature(USCOUNTIES, linewidth=0.5)\n",
    "\n",
    "    for lat, lon, label, marker, color in zip(latitude, longitude, labels, markers, colors):\n",
    "        ax.plot(lon, lat, marker, label=label, color=color, transform=ccrs.PlateCarree(), markersize=10)\n",
    "\n",
    "    # Create a colorbar manually\n",
    "    plt.tight_layout()\n",
    "    cbar = plt.colorbar(mappable, ax=ax, orientation='vertical', fraction=0.046, pad=0.04)\n",
    "    cbar.set_label('equivalent reflectivity factor (dBZ)')\n",
    "\n",
    "    # Save the plot to a file\n",
    "    filename = f'radar_frame_{i}.png'\n",
    "    plt.legend(loc='upper right', fontsize='large', title='Locations')\n",
    "    plt.savefig(filename, bbox_inches='tight')\n",
    "    plt.close(fig)\n",
    "\n",
    "    # Add the file to the frames list\n",
    "    frames.append(filename)\n",
    "    print(f\"Saved frame {i+1}/{len(files)}: {filename}\")\n",
    "\n",
    "# Create an animated GIF using Pillow\n",
    "if frames:\n",
    "    print(\"Creating animated GIF...\")\n",
    "    images = [Image.open(frame) for frame in frames]\n",
    "    images[0].save('radar_animation.gif', save_all=True, append_images=images[1:], duration=300, loop=0)  # duration in milliseconds\n",
    "\n",
    "    # Clean up the saved frames\n",
    "    for filename in frames:\n",
    "        os.remove(filename)\n",
    "\n",
    "    print(\"Animated GIF created as 'radar_animation.gif'\")\n",
    "else:\n",
    "    print(\"No frames were generated.\")\n"
   ]
  },
  {
   "cell_type": "markdown",
   "id": "efa01a14-179e-40a3-ae9d-e009725e3f09",
   "metadata": {},
   "source": [
    "# Summary\n",
    "Within this example, we walked through how MetPy and PyART can be used to loop through NEXRAD level 2 data from a recent convective rainfall event and create an animated gif over a location."
   ]
  },
  {
   "cell_type": "markdown",
   "id": "060032b8-7cc8-422d-9583-eed85b9575a5",
   "metadata": {},
   "source": [
    "## What comes next?\n",
    "\n",
    "Following this will be some examples that allow us to create gifs with radar data visualized in less conventional forms, such as vertical columns. May be included on this page or a seperate one."
   ]
  },
  {
   "cell_type": "code",
   "execution_count": null,
   "id": "82b3c0ba-be52-4a2c-b512-ba37822a5574",
   "metadata": {},
   "outputs": [],
   "source": []
  }
 ],
 "metadata": {
  "kernelspec": {
   "display_name": "CROCUS",
   "language": "python",
   "name": "crocusenv"
  },
  "language_info": {
   "codemirror_mode": {
    "name": "ipython",
    "version": 3
   },
   "file_extension": ".py",
   "mimetype": "text/x-python",
   "name": "python",
   "nbconvert_exporter": "python",
   "pygments_lexer": "ipython3",
   "version": "3.12.3"
  }
 },
 "nbformat": 4,
 "nbformat_minor": 5
}
